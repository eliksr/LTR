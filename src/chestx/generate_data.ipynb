{
 "cells": [
  {
   "cell_type": "code",
   "execution_count": null,
   "metadata": {
    "collapsed": false
   },
   "outputs": [],
   "source": [
    "import os, csv\n",
    "from skimage import io, transform, viewer\n",
    "import numpy as np\n",
    "\n",
    "augCounts = np.zeros(17,np.int)\n",
    "\n",
    "np.random.seed(123)\n",
    "datadir = '../../data/chestx/ims'\n",
    "doutdir = '../../data/chestx/ims_preprocessed_iter0'\n",
    "\n",
    "with open('data/iter0_im_tr_saa0.csv', 'rb') as csvfr:\n",
    "    csvr = csv.reader(csvfr, delimiter = ' ')\n",
    "    with open('data/iter0_im_tr_saa1.csv', 'wb') as csvfw:\n",
    "        csvw = csv.writer(csvfw, delimiter = ' ')\n",
    "        for row in csvr:\n",
    "            fname = row[0]\n",
    "            label = int(row[1])\n",
    "            im1 = np.zeros((256,256,3), np.uint8)\n",
    "            im00 = io.imread(os.path.join(datadir, fname))\n",
    "            im0 = transform.resize(im00, (256,256))\n",
    "            if im0.shape[2]==3:\n",
    "                im1 = im0\n",
    "            else:\n",
    "                im1[0] = im0\n",
    "                im1[1] = im0\n",
    "                im1[2] = im0\n",
    "\n",
    "            if label==0:\n",
    "                im2 = im1[16:(16+224),16:(16+224)]\n",
    "            else:            \n",
    "                cridx1 = np.random.permutation((256-224))[0]\n",
    "                cridx2 = np.random.permutation((256-224))[0]\n",
    "                im2 = im1[cridx1:(cridx1+224),cridx2:(cridx2+224),:]\n",
    "\n",
    "                augCounts[label] += 1\n",
    "\n",
    "            fnameNew0 = os.path.join(doutdir, fname[:-4] + '_' + str(augCounts[label]) + '.png')\n",
    "            fnameNew1 = os.path.join(fname[:-4] + '_' + str(augCounts[label]) + '.png')\n",
    "            \n",
    "            io.imsave(fnameNew0, im2)\n",
    "            csvw.writerow([fnameNew1, label])"
   ]
  },
  {
   "cell_type": "code",
   "execution_count": null,
   "metadata": {
    "collapsed": false
   },
   "outputs": [],
   "source": [
    "import os, csv\n",
    "from skimage import io, transform, viewer\n",
    "import numpy as np\n",
    "\n",
    "np.random.seed(123)\n",
    "datadir = '../../data/chestx/ims'\n",
    "doutdir = '../../data/chestx/ims_preprocessed_iter1'\n",
    "\n",
    "with open('data/iter1_im_tr_saa1.csv', 'rb') as csvfr:\n",
    "    csvr = csv.reader(csvfr, delimiter = ' ')\n",
    "    for row in csvr:\n",
    "        fname = row[0]\n",
    "        label = int(row[1])\n",
    "        doaug = int('_' in row[0][-10:])\n",
    "        \n",
    "        im1 = np.zeros((256,256,3), np.uint8)\n",
    "        fnameo = fname[:-(fname[::-1].index('_')+1)] + '.png'\n",
    "        try:\n",
    "            im00 = io.imread(os.path.join(datadir, fnameo))\n",
    "        except:\n",
    "            im00 = io.imread(os.path.join(datadir, fname))\n",
    "        im0 = transform.resize(im00, (256,256))\n",
    "#         if im0.shape[2]==3:\n",
    "#             im1 = im0\n",
    "#         else:\n",
    "#             im1[0] = im0\n",
    "#             im1[1] = im0\n",
    "#             im1[2] = im0\n",
    "            \n",
    "#         if doaug==0:\n",
    "#             im2 = im1[16:(16+224),16:(16+224)]\n",
    "#         else:            \n",
    "#             cridx1 = np.random.permutation((256-224))[0]\n",
    "#             cridx2 = np.random.permutation((256-224))[0]\n",
    "#             im2 = im1[cridx1:(cridx1+224),cridx2:(cridx2+224),:]\n",
    "        \n",
    "        fnameNew = os.path.join(doutdir, fname)\n",
    "#         io.imsave(fnameNew, im2)\n",
    "        io.imsave(fnameNew, im0)"
   ]
  }
 ],
 "metadata": {
  "kernelspec": {
   "display_name": "Python 2",
   "language": "python",
   "name": "python2"
  },
  "language_info": {
   "codemirror_mode": {
    "name": "ipython",
    "version": 2.0
   },
   "file_extension": ".py",
   "mimetype": "text/x-python",
   "name": "python",
   "nbconvert_exporter": "python",
   "pygments_lexer": "ipython2",
   "version": "2.7.10"
  }
 },
 "nbformat": 4,
 "nbformat_minor": 0
}